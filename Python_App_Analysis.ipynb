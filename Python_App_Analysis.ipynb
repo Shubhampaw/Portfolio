{
  "nbformat": 4,
  "nbformat_minor": 0,
  "metadata": {
    "colab": {
      "provenance": [],
      "authorship_tag": "ABX9TyOM3EItOY2dGMAhNMn0vt6K",
      "include_colab_link": true
    },
    "kernelspec": {
      "name": "python3",
      "display_name": "Python 3"
    },
    "language_info": {
      "name": "python"
    }
  },
  "cells": [
    {
      "cell_type": "markdown",
      "metadata": {
        "id": "view-in-github",
        "colab_type": "text"
      },
      "source": [
        "<a href=\"https://colab.research.google.com/github/Shubhampaw/Portfolio/blob/App_analysis/Python_App_Analysis.ipynb\" target=\"_parent\"><img src=\"https://colab.research.google.com/assets/colab-badge.svg\" alt=\"Open In Colab\"/></a>"
      ]
    },
    {
      "cell_type": "markdown",
      "source": [
        "App Analysis\n",
        "\n",
        "Analyse apps by user activity and identify which type of apps attract most customers"
      ],
      "metadata": {
        "id": "I3GCCDmQYWw0"
      }
    },
    {
      "cell_type": "code",
      "source": [],
      "metadata": {
        "id": "Y0JqdGP9YVxh"
      },
      "execution_count": null,
      "outputs": []
    }
  ]
}