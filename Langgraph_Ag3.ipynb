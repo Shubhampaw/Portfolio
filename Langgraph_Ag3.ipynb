{
 "cells": [
  {
   "cell_type": "code",
   "execution_count": 25,
   "id": "797dfb69",
   "metadata": {},
   "outputs": [],
   "source": [
    "from typing import TypedDict, List, Dict, Any, Optional\n",
    "from langgraph.graph import StateGraph"
   ]
  },
  {
   "cell_type": "code",
   "execution_count": 26,
   "id": "62cef934",
   "metadata": {},
   "outputs": [],
   "source": [
    "class AgentState(TypedDict):\n",
    "    name: str\n",
    "    age: int\n",
    "    skills: list[str]\n",
    "    result: Optional[str]\n",
    "\n"
   ]
  },
  {
   "cell_type": "code",
   "execution_count": 27,
   "id": "6509a3bd",
   "metadata": {},
   "outputs": [],
   "source": [
    "def process_node_one(state: AgentState) -> AgentState:\n",
    "    state[\"result\"] = \"Hi ! \" + state[\"name\"].upper() + \" Welcome to the system.\"\n",
    "    return state\n",
    "\n",
    "def process_node_two(state: AgentState) -> AgentState:\n",
    "    state[\"result\"] = state[\"result\"] + \"You're \" + str(state[\"age\"]) + \" years old.\"\n",
    "    return state\n",
    "\n",
    "def process_node_three(state: AgentState) -> AgentState:\n",
    "    state[\"result\"] = state[\"result\"] + \"And skilled in \" + \", \".join([skill.upper() for skill in state[\"skills\"]])\n",
    "    return state"
   ]
  },
  {
   "cell_type": "code",
   "execution_count": 28,
   "id": "97607f9f",
   "metadata": {},
   "outputs": [],
   "source": [
    "graph = StateGraph(AgentState)\n",
    "\n",
    "graph.add_node(\"NodeOne\", process_node_one)\n",
    "graph.add_node(\"NodeTwo\", process_node_two)\n",
    "graph.add_node(\"NodeThree\", process_node_three)\n",
    "graph.set_entry_point(\"NodeOne\")\n",
    "graph.add_edge(\"NodeOne\", \"NodeTwo\")\n",
    "graph.add_edge(\"NodeTwo\", \"NodeThree\")\n",
    "graph.set_finish_point(\"NodeThree\")\n",
    "\n",
    "app = graph.compile()"
   ]
  },
  {
   "cell_type": "code",
   "execution_count": 14,
   "id": "7857dc13",
   "metadata": {},
   "outputs": [
    {
     "data": {
      "image/png": "[encoded data removed]",
      "text/plain": [
       "<IPython.core.display.Image object>"
      ]
     },
     "metadata": {},
     "output_type": "display_data"
    }
   ],
   "source": [
    "from IPython.display import display, Image\n",
    "display(Image(app.get_graph().draw_mermaid_png()))"
   ]
  },
  {
   "cell_type": "code",
   "execution_count": 29,
   "id": "1d6c9ef6",
   "metadata": {},
   "outputs": [
    {
     "name": "stdout",
     "output_type": "stream",
     "text": [
      "{'name': 'Linda', 'age': 30, 'skills': ['Python', 'Machine Learning', 'Langgraph'], 'result': \"Hi ! LINDA Welcome to the system.You're 30 years old.And skilled in PYTHON, MACHINE LEARNING, LANGGRAPH\"}\n"
     ]
    }
   ],
   "source": [
    "result = app.invoke({\"name\":\"Linda\", \"age\":30, \"skills\":[\"Python\", \"Machine Learning\", \"Langgraph\"]})\n",
    "print(result)"
   ]
  }
 ],
 "metadata": {
  "kernelspec": {
   "display_name": ".venv",
   "language": "python",
   "name": "python3"
  },
  "language_info": {
   "codemirror_mode": {
    "name": "ipython",
    "version": 3
   },
   "file_extension": ".py",
   "mimetype": "text/x-python",
   "name": "python",
   "nbconvert_exporter": "python",
   "pygments_lexer": "ipython3",
   "version": "3.11.9"
  }
 },
 "nbformat": 4,
 "nbformat_minor": 5
}
